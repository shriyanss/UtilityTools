{
  "nbformat": 4,
  "nbformat_minor": 0,
  "metadata": {
    "colab": {
      "name": "Utility Tools",
      "provenance": [],
      "collapsed_sections": []
    },
    "kernelspec": {
      "display_name": "Python 3",
      "name": "python3"
    },
    "language_info": {
      "name": "python"
    }
  },
  "cells": [
    {
      "cell_type": "markdown",
      "metadata": {
        "id": "stCu9Yat6LSk"
      },
      "source": [
        "# Bug Bounty Utility Tools in Jupyter (Google Colab) Notebook\n",
        "\n",
        "### # Author: Shriyanss\n",
        "### # Github URL: https://github.com/Shriyanss/UtilityTools"
      ]
    },
    {
      "cell_type": "code",
      "metadata": {
        "id": "zNETwtSIyXrk",
        "cellView": "form"
      },
      "source": [
        "# @markdown # Subdomain Bruteforcer\n",
        "# @markdown `wordlist` : The URL to wordlist (default already set)<br>`target`: Domain of the target\n",
        "# @markdown <br><br>Some wordlists for subdomain bruteforce can be found [here](https://github.com/danielmiessler/SecLists/tree/master/Discovery/DNS)<br> Just copy the raw URL for desired wordlist and paste it below.<br> **This tool checks if the host (subdomain) have an IP or not. If yes, then there's chance that subdomain is live**\n",
        "wordlist = \"https://raw.githubusercontent.com/danielmiessler/SecLists/master/Discovery/DNS/subdomains-top1million-110000.txt\" #@param {type:\"string\"}\n",
        "target = \"target.com\" #@param {type:\"string\"}\n",
        "import socket\n",
        "import requests\n",
        "\n",
        "wrdlst = (requests.get(wordlist)).text\n",
        "with open(\"wordlist.txt\", 'w+') as file:\n",
        "  file.write(wrdlst)\n",
        "\n",
        "with open(\"wordlist.txt\", 'r') as file:\n",
        "    for line in file:\n",
        "        line = line.replace(\"\\n\", \"\")\n",
        "        try:\n",
        "            host = line + '.' + target\n",
        "            ip = socket.gethostbyname(host)\n",
        "            print(host)\n",
        "        except:\n",
        "            pass"
      ],
      "execution_count": null,
      "outputs": []
    },
    {
      "cell_type": "code",
      "metadata": {
        "cellView": "form",
        "id": "8ksl9zF-3-IA"
      },
      "source": [
        "#@title Custom Subdomain Bruteforcer\n",
        "#@markdown `main_url`: The URL of the main web page<br>`target_host`: Hostname of the target<br>`protocol_prefix`: Protocol to use [http/https]<br>`port_suffix`: Port number to check<br>`wordlist`: URL of the wordlist<br><br>\n",
        "#@markdown This tool checks if the content is matching with the main domain or not. If it matches, it excludes it, and if not, it is printed\n",
        "main_url = \"https://target.com:443/\" #@param {type:\"string\"}\n",
        "target_host = \"target.com\" #@param {type:\"string\"}\n",
        "protocol_prefix = \"https\" #@param {type:\"string\"}\n",
        "port_suffix = \"443\" #@param {type:\"string\"}\n",
        "wordlist = \"https://raw.githubusercontent.com/danielmiessler/SecLists/master/Discovery/DNS/subdomains-top1million-110000.txt\" #@param {type:\"string\"}\n",
        "\n",
        "import requests\n",
        "\n",
        "main_text = (requests.get(main_url)).text\n",
        "\n",
        "with open(\"subdomains.txt\", 'w+') as file:\n",
        "  txt = (requests.get(wordlist)).text\n",
        "  file.write(txt)\n",
        "\n",
        "with open(\"subdomains.txt\", 'r') as file:\n",
        "  for line in file:\n",
        "    line = line.replace(\"\\n\", '')\n",
        "    url = protocol_prefix + \"://\" + line + \".\" + target_host + \":\" + port_suffix + \"/\"\n",
        "    try:\n",
        "      txt = (requests.get(url)).text\n",
        "      if txt == main_text:\n",
        "        pass\n",
        "      else:\n",
        "        print(url)\n",
        "    except:\n",
        "      pass"
      ],
      "execution_count": null,
      "outputs": []
    }
  ]
}
