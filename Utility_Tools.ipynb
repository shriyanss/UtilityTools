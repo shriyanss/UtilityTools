{
  "cells": [
    {
      "cell_type": "markdown",
      "metadata": {
        "id": "stCu9Yat6LSk"
      },
      "source": [
        "# Bug Bounty Utility Tools in Jupyter (Google Colab) Notebook\n",
        "\n",
        "### # Author: Shriyanss\n",
        "### # Github URL: https://github.com/Shriyanss/UtilityTools"
      ]
    },
    {
      "cell_type": "code",
      "execution_count": null,
      "metadata": {
        "cellView": "form",
        "id": "zNETwtSIyXrk"
      },
      "outputs": [],
      "source": [
        "# @markdown # Subdomain Bruteforcer\n",
        "# @markdown `wordlist` : The URL to wordlist (default already set)<br>`target`: Domain of the target\n",
        "# @markdown <br><br>Some wordlists for subdomain bruteforce can be found [here](https://github.com/danielmiessler/SecLists/tree/master/Discovery/DNS)<br> Just copy the raw URL for desired wordlist and paste it below.<br> **This tool checks if the host (subdomain) have an IP or not. If yes, then there's chance that subdomain is live**\n",
        "wordlist = \"https://raw.githubusercontent.com/danielmiessler/SecLists/master/Discovery/DNS/subdomains-top1million-110000.txt\" #@param {type:\"string\"}\n",
        "target = \"target.com\" #@param {type:\"string\"}\n",
        "import socket\n",
        "import requests\n",
        "\n",
        "wrdlst = (requests.get(wordlist)).text\n",
        "with open(\"wordlist.txt\", 'w+') as file:\n",
        "  file.write(wrdlst)\n",
        "\n",
        "with open(\"wordlist.txt\", 'r') as file:\n",
        "    for line in file:\n",
        "        line = line.replace(\"\\n\", \"\")\n",
        "        try:\n",
        "            host = line + '.' + target\n",
        "            ip = socket.gethostbyname(host)\n",
        "            print(host)\n",
        "        except:\n",
        "            pass"
      ]
    },
    {
      "cell_type": "code",
      "execution_count": null,
      "metadata": {
        "cellView": "form",
        "colab": {
          "background_save": true
        },
        "id": "8ksl9zF-3-IA"
      },
      "outputs": [],
      "source": [
        "#@title Custom Subdomain Bruteforcer\n",
        "#@markdown `main_url`: The URL of the main web page<br>`target_host`: Hostname of the target<br>`protocol_prefix`: Protocol to use [http/https]<br>`port_suffix`: Port number to check<br>`wordlist`: URL of the wordlist<br><br>\n",
        "#@markdown This tool checks if the content is matching with the main domain or not. If it matches, it excludes it, and if not, it is printed\n",
        "main_url = \"https://uikiguguuogbuog.olacabs.com\" #@param {type:\"string\"}\n",
        "target_host = \"target.com\" #@param {type:\"string\"}\n",
        "protocol_prefix = \"https\" #@param {type:\"string\"}\n",
        "port_suffix = \"443\" #@param {type:\"string\"}\n",
        "wordlist = \"https://raw.githubusercontent.com/danielmiessler/SecLists/master/Discovery/DNS/subdomains-top1million-110000.txt\" #@param {type:\"string\"}\n",
        "\n",
        "import requests\n",
        "\n",
        "main_text = (requests.get(main_url)).text\n",
        "\n",
        "with open(\"subdomains.txt\", 'w+') as file:\n",
        "  txt = (requests.get(wordlist)).text\n",
        "  file.write(txt)\n",
        "\n",
        "with open(\"subdomains.txt\", 'r') as file:\n",
        "  for line in file:\n",
        "    line = line.replace(\"\\n\", '')\n",
        "    url = protocol_prefix + \"://\" + line + \".\" + target_host + \":\" + port_suffix + \"/\"\n",
        "    try:\n",
        "      txt = (requests.get(url)).text\n",
        "      if txt == main_text:\n",
        "        pass\n",
        "      else:\n",
        "        print(url)\n",
        "    except:\n",
        "      pass"
      ]
    },
    {
      "cell_type": "code",
      "execution_count": null,
      "metadata": {
        "cellView": "form",
        "colab": {
          "background_save": true
        },
        "id": "bAuzR-qE6VZM"
      },
      "outputs": [],
      "source": [
        "#@title Mass files finder\n",
        "#@markdown `files`: enter the file to search at a list of domains/subdomains (comma seperated value, please)<br>`subdomainList`: Path to the file containing domains/subdomains (one line each)<br>`protocol`: Protocol to use (*http/https*)<br>`port`: Port to use (*1-65535*)<br>`timeoutSec`: Set timeout for each request\n",
        "files = \".git,.bash_history\" #@param {type:\"string\"}\n",
        "subdomainList = \"subdomains.txt\" #@param {type:\"string\"}\n",
        "protocol = \"https\" #@param {type:\"string\"}\n",
        "port = 443 #@param {type:\"integer\"}\n",
        "timeoutSec =  20#@param {type:\"integer\"}\n",
        "import requests, socket\n",
        "\n",
        "fileArray = files.split(\",\")\n",
        "file = open(subdomainList, 'r')\n",
        "\n",
        "for fl in fileArray:\n",
        "  for line in file:\n",
        "      line = line.replace(\"\\n\", '')\n",
        "      url = protocol + \"://\" + line + \":\" + str(port) + \"/\" + fl\n",
        "      try:\n",
        "        ip = socket.gethostbyname(line)\n",
        "        rqst = requests.get(url, timeout=timeoutSec)\n",
        "        if rqst.status_code != 404:\n",
        "          print(url)\n",
        "          print(rqst.status_code)\n",
        "      except:\n",
        "        pass"
      ]
    },
    {
      "cell_type": "code",
      "source": [
        "#@title Display IP addresses\n",
        "#@markdown `hostnames`: Path to file containing hostnames to resolve IP of (1 per line)\n",
        "import socket\n",
        "hostsnames = \"subdomains.txt\" #@param {type:\"string\"}\n",
        "with open(hostnames, 'r') as file:\n",
        "  for line in file:\n",
        "    line = line.replace(\"\\n\", '')\n",
        "    ip = socket.gethostbyname(line)\n",
        "    print(ip + \": \" + line)"
      ],
      "metadata": {
        "cellView": "form",
        "id": "5fAKndheM06o"
      },
      "execution_count": null,
      "outputs": []
    }
  ],
  "metadata": {
    "colab": {
      "collapsed_sections": [],
      "name": "Utility Tools",
      "provenance": []
    },
    "kernelspec": {
      "display_name": "Python 3",
      "name": "python3"
    },
    "language_info": {
      "name": "python"
    }
  },
  "nbformat": 4,
  "nbformat_minor": 0
}